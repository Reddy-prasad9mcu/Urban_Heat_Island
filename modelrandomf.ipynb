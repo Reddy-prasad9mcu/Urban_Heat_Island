{
 "cells": [
  {
   "cell_type": "code",
   "execution_count": 2,
   "id": "53082e98",
   "metadata": {},
   "outputs": [
    {
     "name": "stdout",
     "output_type": "stream",
     "text": [
      "Mean Absolute Error: 0.0047\n",
      "R² Score: 0.8215\n"
     ]
    }
   ],
   "source": [
    "import pandas as pd  \n",
    "from sklearn.model_selection import train_test_split  \n",
    "from sklearn.ensemble import RandomForestRegressor  \n",
    "from sklearn.metrics import mean_absolute_error, r2_score  \n",
    "\n",
    "\n",
    "df = pd.read_csv(\"nyc2.csv\")\n",
    "xo=df.columns.tolist()\n",
    "\n",
    "feature_columns = xo[3:]\n",
    "X = df[feature_columns]\n",
    "y = df[\"UHI Index\"] \n",
    "\n",
    "X_train, X_val, y_train, y_val = train_test_split(X, y, test_size=0.2, random_state=42)\n",
    "\n",
    "rf_model = RandomForestRegressor(n_estimators=200, random_state=42, n_jobs=-1)\n",
    "\n",
    "\n",
    "rf_model.fit(X_train, y_train)\n",
    "\n",
    "y_pred = rf_model.predict(X_val)\n",
    "\n",
    "mae = mean_absolute_error(y_val, y_pred)\n",
    "r2 = r2_score(y_val, y_pred)\n",
    "\n",
    "print(f\"Mean Absolute Error: {mae:.4f}\")\n",
    "print(f\"R² Score: {r2:.4f}\")\n"
   ]
  },
  {
   "cell_type": "code",
   "execution_count": 3,
   "id": "c299d1a7",
   "metadata": {},
   "outputs": [
    {
     "name": "stdout",
     "output_type": "stream",
     "text": [
      "Submission file saved as Final_Submission.csv\n"
     ]
    }
   ],
   "source": [
    "\n",
    "submission_df = pd.read_csv(\"ols.csv\")\n",
    "\n",
    "X_submission = submission_df[feature_columns]  \n",
    "\n",
    "submission_df[\"UHI_Index\"] = rf_model.predict(X_submission)\n",
    "\n",
    "submission_df.to_csv(\"sub.csv\", index=False)\n",
    "print(\"Submission file saved as Final_Submission.csv\")\n"
   ]
  }
 ],
 "metadata": {
  "kernelspec": {
   "display_name": ".venv",
   "language": "python",
   "name": "python3"
  },
  "language_info": {
   "codemirror_mode": {
    "name": "ipython",
    "version": 3
   },
   "file_extension": ".py",
   "mimetype": "text/x-python",
   "name": "python",
   "nbconvert_exporter": "python",
   "pygments_lexer": "ipython3",
   "version": "3.13.2"
  }
 },
 "nbformat": 4,
 "nbformat_minor": 5
}
