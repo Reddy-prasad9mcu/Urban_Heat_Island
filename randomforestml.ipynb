{
 "cells": [
  {
   "cell_type": "code",
   "execution_count": null,
   "metadata": {},
   "outputs": [],
   "source": [
    "import pandas as pd  \n",
    "from sklearn.model_selection import train_test_split  \n",
    "from sklearn.ensemble import RandomForestRegressor  \n",
    "from sklearn.metrics import mean_absolute_error, r2_score  \n",
    "\n",
    "# Load the training data\n",
    "df = pd.read_csv(\"nyc2.csv\")\n",
    "xo=df.columns.tolist()\n",
    "\n",
    "\n",
    "# Define Features (X) and Target (y)\n",
    "feature_columns = xo[3:]\n",
    "X = df[feature_columns]\n",
    "y = df[\"UHI Index\"]  # Target variable\n",
    "\n",
    "# Split Data: 80% Training, 20% Validation\n",
    "X_train, X_val, y_train, y_val = train_test_split(X, y, test_size=0.2, random_state=42)\n",
    "# Initialize Random Forest Model\n",
    "rf_model = RandomForestRegressor(n_estimators=200, random_state=42, n_jobs=-1)\n",
    "\n",
    "# Train the model\n",
    "rf_model.fit(X_train, y_train)\n",
    "# Predict on Validation Set\n",
    "y_pred = rf_model.predict(X_val)\n",
    "\n",
    "# Evaluate Performance\n",
    "mae = mean_absolute_error(y_val, y_pred)\n",
    "r2 = r2_score(y_val, y_pred)\n",
    "\n",
    "print(f\"Mean Absolute Error: {mae:.4f}\")\n",
    "print(f\"R² Score: {r2:.4f}\")\n"
   ]
  },
  {
   "cell_type": "code",
   "execution_count": null,
   "metadata": {},
   "outputs": [],
   "source": [
    "# Load the submission file\n",
    "submission_df = pd.read_csv(\"ols.csv\")\n",
    "\n",
    "# Ensure feature columns exist\n",
    "X_submission = submission_df[feature_columns]  # Use same feature columns as training\n",
    "# Predict UHI index using the trained model\n",
    "submission_df[\"UHI_Index\"] = rf_model.predict(X_submission)\n",
    "# Save predictions to a new CSV file\n",
    "submission_df.to_csv(\"sub.csv\", index=False)\n",
    "print(\"✅ Submission file saved as Final_Submission.csv\")\n"
   ]
  }
 ],
 "metadata": {
  "language_info": {
   "name": "python"
  }
 },
 "nbformat": 4,
 "nbformat_minor": 2
}
