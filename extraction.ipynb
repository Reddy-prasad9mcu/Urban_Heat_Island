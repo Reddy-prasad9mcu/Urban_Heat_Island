{
 "cells": [
  {
   "cell_type": "code",
   "execution_count": 3,
   "metadata": {},
   "outputs": [
    {
     "name": "stdout",
     "output_type": "stream",
     "text": [
      "Extracted Pixel Values:\n",
      "   Unnamed: 0  Longitude   Latitude  UHI Index  Band_1  Band_2  Band_3  \\\n",
      "0           0 -73.909167  40.813107   1.030289  1704.0  1580.5  1666.5   \n",
      "1           1 -73.909187  40.813045   1.030289  1704.0  1580.5  1666.5   \n",
      "2           2 -73.909215  40.812978   1.023798  1704.0  1660.5  1817.0   \n",
      "3           3 -73.909242  40.812908   1.023798  1704.0  1618.5  1798.0   \n",
      "4           4 -73.909257  40.812845   1.021634  1704.0  1664.0  1780.5   \n",
      "\n",
      "   Band_4  Band_5  Band_6  Band_7  Band_8  Band_9  Band_10  Band_11  Band_12  \\\n",
      "0  1713.0  1981.0  2005.5  2035.5  1945.0  2096.5   2142.0   1957.0     84.0   \n",
      "1  1713.0  1981.0  2005.5  2035.5  1945.0  2096.5   2142.0   1957.0     84.0   \n",
      "2  1804.0  1979.5  2471.0  2654.0  2851.0  2826.5   2411.5   2023.5     84.0   \n",
      "3  1811.0  1979.5  2471.0  2654.0  2899.0  2826.5   2411.5   2023.5     84.0   \n",
      "4  1814.0  2141.5  2672.0  2896.5  3033.0  3049.0   2668.5   2239.0     84.0   \n",
      "\n",
      "   Band_13  Band_14  Band_15  \n",
      "0    906.0      5.0   2681.0  \n",
      "1    906.0      5.0   2681.0  \n",
      "2   1043.5      5.0   2681.0  \n",
      "3   1043.5      5.0   2681.0  \n",
      "4   1189.0      5.0   2681.0  \n"
     ]
    }
   ],
   "source": [
    "import geopandas as gpd\n",
    "import rioxarray as rio\n",
    "import pandas as pd\n",
    "\n",
    "\n",
    "raster = rio.open_rasterio(\"Sentinel2_NYC66.tif\")\n",
    "\n",
    "\n",
    "uhi_data = pd.read_csv(\"UHI_Observation.csv\")\n",
    "geo_uhi = gpd.GeoDataFrame(\n",
    "    uhi_data, geometry=gpd.points_from_xy(uhi_data.Longitude, uhi_data.Latitude), crs=\"EPSG:4326\"\n",
    ")\n",
    "\n",
    "extracted_values = []\n",
    "for _, row in geo_uhi.iterrows():\n",
    "    lon, lat = row.geometry.x, row.geometry.y\n",
    "    pixel_values = raster.sel(x=lon, y=lat, method=\"nearest\").values.flatten()\n",
    "    extracted_values.append(pixel_values)\n",
    "\n",
    "\n",
    "extracted_df = pd.DataFrame(extracted_values, columns=[f\"Band_{i+1}\" for i in range(raster.shape[0])])\n",
    "uhi_data = pd.concat([uhi_data, extracted_df], axis=1)\n",
    "\n",
    "print(\"Extracted Pixel Values:\")\n",
    "print(uhi_data.head())\n",
    "\n",
    "uhi_data.to_csv(\"xiochen66.csv\", index=False)\n"
   ]
  }
 ],
 "metadata": {
  "kernelspec": {
   "display_name": ".venv",
   "language": "python",
   "name": "python3"
  },
  "language_info": {
   "codemirror_mode": {
    "name": "ipython",
    "version": 3
   },
   "file_extension": ".py",
   "mimetype": "text/x-python",
   "name": "python",
   "nbconvert_exporter": "python",
   "pygments_lexer": "ipython3",
   "version": "3.13.2"
  }
 },
 "nbformat": 4,
 "nbformat_minor": 2
}
