{
 "cells": [
  {
   "cell_type": "code",
   "execution_count": null,
   "metadata": {},
   "outputs": [],
   "source": [
    "import geopandas as gpd\n",
    "import rioxarray as rio\n",
    "import pandas as pd\n",
    "\n",
    "# Load raster\n",
    "raster = rio.open_rasterio(\"Sentinel2_NYC.tif\")\n",
    "\n",
    "# Load UHI observation points (ensure your CSV has 'Latitude' and 'Longitude' columns)\n",
    "uhi_data = pd.read_csv(\"UHI_Observation.csv\")\n",
    "geo_uhi = gpd.GeoDataFrame(\n",
    "    uhi_data, geometry=gpd.points_from_xy(uhi_data.Longitude, uhi_data.Latitude), crs=\"EPSG:4326\"\n",
    ")\n",
    "\n",
    "# Extract pixel values for each UHI observation\n",
    "extracted_values = []\n",
    "for _, row in geo_uhi.iterrows():\n",
    "    lon, lat = row.geometry.x, row.geometry.y\n",
    "    pixel_values = raster.sel(x=lon, y=lat, method=\"nearest\").values.flatten()\n",
    "    extracted_values.append(pixel_values)\n",
    "\n",
    "# Convert to DataFrame\n",
    "extracted_df = pd.DataFrame(extracted_values, columns=[f\"Band_{i+1}\" for i in range(raster.shape[0])])\n",
    "uhi_data = pd.concat([uhi_data, extracted_df], axis=1)\n",
    "\n",
    "print(\"✅ Extracted Pixel Values:\")\n",
    "print(uhi_data.head())\n",
    "\n",
    "# Save extracted dataset\n",
    "uhi_data.to_csv(\"xiochen.csv\", index=False)\n"
   ]
  }
 ],
 "metadata": {
  "language_info": {
   "name": "python"
  }
 },
 "nbformat": 4,
 "nbformat_minor": 2
}
