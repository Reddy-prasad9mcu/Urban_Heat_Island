{
 "cells": [
  {
   "cell_type": "code",
   "execution_count": null,
   "metadata": {},
   "outputs": [],
   "source": [
    "import rasterio\n",
    "import geopandas as gpd\n",
    "import pandas as pd\n",
    "from rasterstats import point_query\n",
    "import warnings\n",
    "warnings.filterwarnings('ignore')\n",
    "\n",
    "import numpy as np\n",
    "import xarray as xr\n",
    "import rioxarray as rio\n",
    "import rasterio\n",
    "import pystac_client\n",
    "import planetary_computer\n",
    "from odc.stac import stac_load\n",
    "import matplotlib.pyplot as plt\n",
    "import numpy as np\n",
    "import pandas as pd\n",
    "import geopandas as gpd\n",
    "import rasterio\n",
    "import rioxarray as rio\n",
    "from rasterio.features import geometry_mask\n",
    "from shapely.geometry import Point\n",
    "import matplotlib.pyplot as plt\n"
   ]
  },
  {
   "cell_type": "code",
   "execution_count": null,
   "metadata": {},
   "outputs": [],
   "source": [
    "lower_left = (40.75, -74.01)\n",
    "upper_right = (40.88, -73.86)\n",
    "bbox = [lower_left[1], lower_left[0], upper_right[1], upper_right[0]]  # [min lon, min lat, max lon, max lat]\n",
    "\n",
    "# Define time range (June 1 – Sep 1, 2021)\n",
    "time_window = \"2012-06-01/2025-02-01\""
   ]
  },
  {
   "cell_type": "code",
   "execution_count": null,
   "metadata": {},
   "outputs": [],
   "source": [
    "stac = pystac_client.Client.open(\"https://planetarycomputer.microsoft.com/api/stac/v1\")\n",
    "\n",
    "# Search for Sentinel-2 images with <30% cloud cover\n",
    "search = stac.search(\n",
    "    bbox=bbox,\n",
    "    datetime=time_window,\n",
    "    collections=[\"sentinel-2-l2a\"],\n",
    "    query={\"eo:cloud_cover\": {\"lt\": 10}},\n",
    ")\n",
    "\n",
    "# Get item list\n",
    "items = list(search.get_items())\n",
    "print(f\"✅ Number of Sentinel-2 scenes found: {len(items)}\")\n",
    "\n",
    "# Sign URLs for access\n",
    "signed_items = [planetary_computer.sign(item).to_dict() for item in items]"
   ]
  },
  {
   "cell_type": "code",
   "execution_count": null,
   "metadata": {},
   "outputs": [],
   "source": [
    "# Define pixel resolution (10m per pixel)\n",
    "resolution = 10  # meters\n",
    "scale = resolution / 111320.0  # degrees per pixel for CRS=4326\n",
    "\n",
    "# Load spectral bands from Sentinel-2\n",
    "data = stac_load(\n",
    "    items,\n",
    "    bands=[\"B01\", \"B02\", \"B03\", \"B04\", \"B05\", \"B06\", \"B07\", \"B08\", \"B8A\", \"B11\", \"B12\", \"AOT\", \"WVP\", \"SCL\",\"B09\"],\n",
    "    crs=\"EPSG:4326\",  \n",
    "    resolution=scale,  \n",
    "    chunks={\"df\": 2048, \"y\": 2048},\n",
    "    dtype=\"uint16\",\n",
    "    patch_url=planetary_computer.sign,\n",
    "    bbox=bbox\n",
    ")\n",
    "\n",
    "print(data)"
   ]
  },
  {
   "cell_type": "code",
   "execution_count": null,
   "metadata": {},
   "outputs": [],
   "source": [
    "median = data.median(dim=\"time\").compute()\n",
    "\n",
    "# Display an RGB Image (B04, B03, B02)\n",
    "fig, ax = plt.subplots(figsize=(6, 6))\n",
    "median[[\"B04\", \"B03\", \"B02\"]].to_array().plot.imshow(robust=True, ax=ax, vmin=0, vmax=2500)\n",
    "ax.set_title(\"RGB Median Composite (Cloud-Free)\")\n",
    "ax.axis('off')\n",
    "plt.show()"
   ]
  },
  {
   "cell_type": "code",
   "execution_count": null,
   "metadata": {},
   "outputs": [],
   "source": [
    "filename = \"Sentinel2_NYC2.tif\"\n",
    "\n",
    "# Define raster transform\n",
    "height, width = median.dims[\"latitude\"], median.dims[\"longitude\"]\n",
    "transform = rasterio.transform.from_bounds(lower_left[1], lower_left[0], upper_right[1], upper_right[0], width, height)\n",
    "\n",
    "# Write GeoTIFF\n",
    "median.rio.write_crs(\"EPSG:4326\", inplace=True)\n",
    "median.rio.write_transform(transform, inplace=True)\n",
    "\n",
    "with rasterio.open(filename, 'w', driver='GTiff', width=width, height=height,\n",
    "                   crs=\"EPSG:4326\", transform=transform,\n",
    "                   count=len(median.data_vars), dtype=\"float32\") as dst:\n",
    "    for i, band in enumerate(median.data_vars.keys()):\n",
    "        dst.write(median[band], i + 1)\n",
    "\n",
    "print(f\"✅ GeoTIFF saved: {filename}\")"
   ]
  },
  {
   "cell_type": "code",
   "execution_count": null,
   "metadata": {},
   "outputs": [],
   "source": []
  }
 ],
 "metadata": {
  "kernelspec": {
   "display_name": ".venv",
   "language": "python",
   "name": "python3"
  },
  "language_info": {
   "codemirror_mode": {
    "name": "ipython",
    "version": 3
   },
   "file_extension": ".py",
   "mimetype": "text/x-python",
   "name": "python",
   "nbconvert_exporter": "python",
   "pygments_lexer": "ipython3",
   "version": "3.13.0"
  }
 },
 "nbformat": 4,
 "nbformat_minor": 2
}
